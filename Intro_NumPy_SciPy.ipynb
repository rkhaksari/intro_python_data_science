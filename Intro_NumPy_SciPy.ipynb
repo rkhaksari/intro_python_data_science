{
 "cells": [
  {
   "cell_type": "markdown",
   "metadata": {},
   "source": [
    "### Intro to NumPy & SciPy"
   ]
  },
  {
   "cell_type": "markdown",
   "metadata": {},
   "source": [
    "**NumPy:** A Python library for performing linear algebra functions; Python machine learning libraries (ex: scikit-learn) depend on it.\n",
    "\n",
    "An object in Python has attributes/characteristics and functions/methods it can perform. They both come after the NumPy object with with similar syntax:\n",
    "\n",
    "Attribute: np.attribute  \n",
    "Method: np.method()"
   ]
  },
  {
   "cell_type": "markdown",
   "metadata": {},
   "source": [
    "**SciPy:** A Python library generally used for sampling of probability distributions and other statistical analyses. SciPy contains more fully featured versions of the linear algebra modules, as well as many other numerical algorithms."
   ]
  },
  {
   "cell_type": "markdown",
   "metadata": {},
   "source": [
    "**Note:** If you are doing scientific computing with Python, you should probably install both NumPy and SciPy."
   ]
  },
  {
   "cell_type": "code",
   "execution_count": 80,
   "metadata": {},
   "outputs": [],
   "source": [
    "# Import the library/package using commonly used abbreviation \"np\":\n",
    "import numpy as np"
   ]
  },
  {
   "cell_type": "code",
   "execution_count": 81,
   "metadata": {},
   "outputs": [
    {
     "name": "stdout",
     "output_type": "stream",
     "text": [
      "[11 22 33]\n",
      "<class 'numpy.ndarray'>\n"
     ]
    }
   ],
   "source": [
    "# Use NumPy to create arrays:\n",
    "array = np.array([11, 22, 33]) # 1 row, 3 columns\n",
    "print(array)\n",
    "print(type(array))"
   ]
  },
  {
   "cell_type": "markdown",
   "metadata": {},
   "source": [
    "**Using a function which is contained within a Python package/library:** \n",
    "\n",
    "Syntax --> Python_Package.Package_Function(Function Arguments)"
   ]
  },
  {
   "cell_type": "markdown",
   "metadata": {},
   "source": [
    "**Adding arrays in NumPy:**"
   ]
  },
  {
   "cell_type": "markdown",
   "metadata": {},
   "source": [
    "An array is a sequence of numbers. NumPy allows us to perform operations on arrays:"
   ]
  },
  {
   "cell_type": "code",
   "execution_count": 72,
   "metadata": {},
   "outputs": [],
   "source": [
    "# Create two arrays:\n",
    "array_1 = np.array([9, 8, 7])\n",
    "array_2 = np.array([6, 5, 4])"
   ]
  },
  {
   "cell_type": "code",
   "execution_count": 10,
   "metadata": {},
   "outputs": [
    {
     "data": {
      "text/plain": [
       "array([15, 13, 11])"
      ]
     },
     "execution_count": 10,
     "metadata": {},
     "output_type": "execute_result"
    }
   ],
   "source": [
    "# Add the two arrays:\n",
    "array_1 + array_2"
   ]
  },
  {
   "cell_type": "code",
   "execution_count": 11,
   "metadata": {},
   "outputs": [
    {
     "data": {
      "text/plain": [
       "array([3, 3, 3])"
      ]
     },
     "execution_count": 11,
     "metadata": {},
     "output_type": "execute_result"
    }
   ],
   "source": [
    "# Subtract the two arrays:\n",
    "array_1 - array_2"
   ]
  },
  {
   "cell_type": "code",
   "execution_count": 12,
   "metadata": {},
   "outputs": [
    {
     "data": {
      "text/plain": [
       "array([54, 40, 28])"
      ]
     },
     "execution_count": 12,
     "metadata": {},
     "output_type": "execute_result"
    }
   ],
   "source": [
    "# Multiply the two arrays:\n",
    "array_1 * array_2"
   ]
  },
  {
   "cell_type": "code",
   "execution_count": 13,
   "metadata": {},
   "outputs": [
    {
     "data": {
      "text/plain": [
       "array([1.5 , 1.6 , 1.75])"
      ]
     },
     "execution_count": 13,
     "metadata": {},
     "output_type": "execute_result"
    }
   ],
   "source": [
    "# Divide the two arrays:\n",
    "array_1 / array_2"
   ]
  },
  {
   "cell_type": "markdown",
   "metadata": {},
   "source": [
    "**Generating Random Numbers & Arrays With NumPy:**"
   ]
  },
  {
   "cell_type": "markdown",
   "metadata": {},
   "source": [
    "The NumPy function (np.random.randint) samples numbers from a uniform distribution (uniform means there is an equal likelihood of selecting any number within the distribution). We can set the upper and lower limits of the distribution and the shape of the array produced.\n",
    "\n",
    "*Set the random seed to a constant to ensure that the returned random number is the same every time. Changing that constant changes the output. Leaving out the random.seed function returns a random number every time.*"
   ]
  },
  {
   "cell_type": "code",
   "execution_count": 54,
   "metadata": {},
   "outputs": [
    {
     "name": "stdout",
     "output_type": "stream",
     "text": [
      "44\n",
      "<class 'int'>\n"
     ]
    }
   ],
   "source": [
    "\"\"\"Generate a single number (integer), between 0 and 100 (including 0, not including 100).\"\"\"\n",
    "np.random.seed(0)\n",
    "a = np.random.randint(0, 100)\n",
    "print(a)\n",
    "print(type(a))"
   ]
  },
  {
   "cell_type": "code",
   "execution_count": 58,
   "metadata": {},
   "outputs": [
    {
     "name": "stdout",
     "output_type": "stream",
     "text": [
      "[37 12 72]\n",
      "<class 'numpy.ndarray'>\n"
     ]
    }
   ],
   "source": [
    "\"\"\"Generate a 1-D array with three values. Size argument tells computer the number of elements in the array.\"\"\"\n",
    "np.random.seed(1)\n",
    "b = np.random.randint(0, 100, size=(3))\n",
    "print(b)\n",
    "print(type(b))"
   ]
  },
  {
   "cell_type": "code",
   "execution_count": 59,
   "metadata": {},
   "outputs": [
    {
     "name": "stdout",
     "output_type": "stream",
     "text": [
      "[[40]\n",
      " [15]\n",
      " [72]]\n",
      "<class 'numpy.ndarray'>\n"
     ]
    }
   ],
   "source": [
    "\"\"\"Generate 1D array as row vectors.\"\"\"\n",
    "np.random.seed(2)\n",
    "c = np.random.randint(0, 100, size=(3, 1))\n",
    "print(c)\n",
    "print(type(c))"
   ]
  },
  {
   "cell_type": "code",
   "execution_count": 60,
   "metadata": {},
   "outputs": [
    {
     "name": "stdout",
     "output_type": "stream",
     "text": [
      "[[24  3]\n",
      " [56 72]\n",
      " [ 0 21]]\n",
      "<class 'numpy.ndarray'>\n"
     ]
    }
   ],
   "source": [
    "\"\"\"Generate a 2-D array with three rows and two columns.\"\"\"\n",
    "np.random.seed(3)\n",
    "d = np.random.randint(0, 100, size=(3, 2))\n",
    "print(d)\n",
    "print(type(d))"
   ]
  },
  {
   "cell_type": "code",
   "execution_count": 63,
   "metadata": {},
   "outputs": [
    {
     "name": "stdout",
     "output_type": "stream",
     "text": [
      "[[[46 55]\n",
      "  [69  1]\n",
      "  [87 72]]\n",
      "\n",
      " [[50  9]\n",
      "  [58 94]\n",
      "  [55 55]]\n",
      "\n",
      " [[57 36]\n",
      "  [50 44]\n",
      "  [38 52]]]\n",
      "<class 'numpy.ndarray'>\n"
     ]
    }
   ],
   "source": [
    "\"\"\"Generate n-dimensional arrays.\"\"\"\n",
    "np.random.seed(4)\n",
    "e = np.random.randint(0, 100, size=(3, 3, 2))\n",
    "print(e)\n",
    "print(type(e))"
   ]
  },
  {
   "cell_type": "markdown",
   "metadata": {},
   "source": [
    "A matrix/2-D array is like an Excel worksheet, and a tensor is like an Excel workbook (a collection of sheets). A tensor can have n-dimensions. Above we made a 3 x 3 x 2 tensor with 3 sheets/pages, 3 rows each, and 2 columns each."
   ]
  },
  {
   "cell_type": "markdown",
   "metadata": {},
   "source": [
    "**Sampling from a normal distribution:**"
   ]
  },
  {
   "cell_type": "code",
   "execution_count": 68,
   "metadata": {},
   "outputs": [
    {
     "data": {
      "text/plain": [
       "array([10.02693565, 10.35880669,  8.38545861, 10.82448138, 10.26043704])"
      ]
     },
     "execution_count": 68,
     "metadata": {},
     "output_type": "execute_result"
    }
   ],
   "source": [
    "\"\"\"Sample 5 elements from a normal distribution with a mean of 10 and a standard deviation of 1.\n",
    "The result is a 1-D array of those values.\"\"\"\n",
    "mean = 10\n",
    "std = 1\n",
    "series_length = 5\n",
    "\n",
    "np.random.normal(mean, std, series_length)"
   ]
  },
  {
   "cell_type": "markdown",
   "metadata": {},
   "source": [
    "**NumPy Attributes:**"
   ]
  },
  {
   "cell_type": "code",
   "execution_count": 83,
   "metadata": {},
   "outputs": [
    {
     "name": "stdout",
     "output_type": "stream",
     "text": [
      "[[[46 55]\n",
      "  [69  1]\n",
      "  [87 72]]\n",
      "\n",
      " [[50  9]\n",
      "  [58 94]\n",
      "  [55 55]]\n",
      "\n",
      " [[57 36]\n",
      "  [50 44]\n",
      "  [38 52]]]\n"
     ]
    }
   ],
   "source": [
    "# Array \"e\" from above:\n",
    "print(e)"
   ]
  },
  {
   "cell_type": "code",
   "execution_count": 84,
   "metadata": {},
   "outputs": [
    {
     "data": {
      "text/plain": [
       "(3, 3, 2)"
      ]
     },
     "execution_count": 84,
     "metadata": {},
     "output_type": "execute_result"
    }
   ],
   "source": [
    "# Get the dimensions of a matrix\n",
    "e.shape"
   ]
  },
  {
   "cell_type": "markdown",
   "metadata": {},
   "source": [
    "There is no limit to the number of dimensions an array can have. As more dimensions are added, arrays nest in each other to represent additional dimensions."
   ]
  },
  {
   "cell_type": "markdown",
   "metadata": {},
   "source": [
    "**NumPy Methods:**"
   ]
  },
  {
   "cell_type": "code",
   "execution_count": 74,
   "metadata": {},
   "outputs": [
    {
     "name": "stdout",
     "output_type": "stream",
     "text": [
      "[37 12 72]\n"
     ]
    }
   ],
   "source": [
    "# Array \"b\" from above:\n",
    "print(b)"
   ]
  },
  {
   "cell_type": "code",
   "execution_count": 75,
   "metadata": {},
   "outputs": [
    {
     "data": {
      "text/plain": [
       "40.333333333333336"
      ]
     },
     "execution_count": 75,
     "metadata": {},
     "output_type": "execute_result"
    }
   ],
   "source": [
    "# Find the mean (average) of a list:\n",
    "np.mean(b)"
   ]
  },
  {
   "cell_type": "code",
   "execution_count": 76,
   "metadata": {},
   "outputs": [
    {
     "data": {
      "text/plain": [
       "37.0"
      ]
     },
     "execution_count": 76,
     "metadata": {},
     "output_type": "execute_result"
    }
   ],
   "source": [
    "# Find the median (middle value) of a list:\n",
    "np.median(b)"
   ]
  },
  {
   "cell_type": "markdown",
   "metadata": {},
   "source": [
    "**Array stats with SciPy:**"
   ]
  },
  {
   "cell_type": "markdown",
   "metadata": {},
   "source": [
    "SciPy is most well known and used for the stats module, which specializes in stats functions and distributions, including mode."
   ]
  },
  {
   "cell_type": "code",
   "execution_count": 77,
   "metadata": {},
   "outputs": [
    {
     "data": {
      "text/plain": [
       "ModeResult(mode=array([1]), count=array([3]))"
      ]
     },
     "execution_count": 77,
     "metadata": {},
     "output_type": "execute_result"
    }
   ],
   "source": [
    "# Find the mode using stats module from SciPy:\n",
    "\n",
    "from scipy import stats\n",
    "\n",
    "sample_array = [1, 1, 1, 2, 2, 3, 4, 4, 5]\n",
    "stats.mode(sample_array)"
   ]
  },
  {
   "cell_type": "markdown",
   "metadata": {},
   "source": [
    "*The mode (most frequently occurring number) is 1, and it appears 3 times. The .mode() function returns an array of modes along an axis (default of 0, the rows) and the corresponding count of those modes for each respective row. The reason for this output is because the .mode() function generalizes to n-dimensional arrays.*"
   ]
  },
  {
   "cell_type": "code",
   "execution_count": 79,
   "metadata": {},
   "outputs": [
    {
     "data": {
      "text/plain": [
       "3"
      ]
     },
     "execution_count": 79,
     "metadata": {},
     "output_type": "execute_result"
    }
   ],
   "source": [
    "# How many times does mode occur?:\n",
    "stats.mode(sample_array).count[0]"
   ]
  },
  {
   "cell_type": "markdown",
   "metadata": {},
   "source": [
    "**The End!**"
   ]
  },
  {
   "cell_type": "code",
   "execution_count": null,
   "metadata": {},
   "outputs": [],
   "source": []
  }
 ],
 "metadata": {
  "kernelspec": {
   "display_name": "Python 3",
   "language": "python",
   "name": "python3"
  },
  "language_info": {
   "codemirror_mode": {
    "name": "ipython",
    "version": 3
   },
   "file_extension": ".py",
   "mimetype": "text/x-python",
   "name": "python",
   "nbconvert_exporter": "python",
   "pygments_lexer": "ipython3",
   "version": "3.7.2"
  }
 },
 "nbformat": 4,
 "nbformat_minor": 2
}
